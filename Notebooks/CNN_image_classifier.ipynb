{
  "cells": [
    {
      "cell_type": "code",
      "execution_count": null,
      "metadata": {
        "colab": {
          "base_uri": "https://localhost:8080/"
        },
        "id": "EjDYul5zmfFf",
        "outputId": "a8cf548a-7264-4e37-c43b-f7bc3965587f"
      },
      "outputs": [
        {
          "output_type": "stream",
          "name": "stdout",
          "text": [
            "Mounted at /content/drive\n"
          ]
        }
      ],
      "source": [
        "import numpy as np\n",
        "from numpy.linalg import norm\n",
        "import imageio\n",
        "import matplotlib.pyplot as plt\n",
        "import math\n",
        "import torch\n",
        "import torch.nn as nn\n",
        "import torch.nn.functional as F\n",
        "from torch.utils import data\n",
        "from torch.utils.data import Dataset\n",
        "from torchvision import transforms as T\n",
        "import tensorflow as tf\n",
        "import cv2 as cv\n",
        "from google.colab.patches import cv2_imshow\n",
        "from tqdm import tqdm\n",
        "import sklearn.metrics as metrics\n",
        "\n",
        "from google.colab import drive\n",
        "drive.mount('/content/drive')"
      ]
    }, 
    {
      "cell_type": "markdown",
      "metadata": {
        "id": "EFYCfKH1UD5C"
      },
      "source": [
        "2a: Finish implementing dataset class"
      ]
    },
    {
      "cell_type": "code",
      "execution_count": null,
      "metadata": {
        "id": "LqRQggVP7Wvt"
      },
      "outputs": [],
      "source": [
        "from torch.nn.functional import normalize\n",
        "from torchvision.transforms import ToTensor, Compose\n",
        "from torchvision.transforms.functional import hflip\n",
        "from torchvision.transforms import RandomHorizontalFlip, RandomAffine, ColorJitter"
      ]
    },
    {
      "cell_type": "code",
      "execution_count": null,
      "metadata": {
        "id": "hMRFC93hpfVi"
      },
      "outputs": [],
      "source": [
        "class CIFARDataset(Dataset):\n",
        "  def __init__(self, images, labels, mode, transform):\n",
        "    self.transform = transform\n",
        "    self.mode = mode\n",
        "\n",
        "    if mode == 'train':\n",
        "      self.images = images[:40000]\n",
        "      self.labels = labels[:40000]\n",
        "      # Your code here. If training, use the first 40,000 examples of the \n",
        "      # entire dataset \n",
        "\n",
        "    elif mode == 'val':\n",
        "      self.images = images[40000:50000]\n",
        "      self.labels = labels[40000:50000]\n",
        "      # Your code here. If validation, use examples 40,000-50,000\n",
        "      # of the entire dataset \n",
        "       \n",
        "    elif mode == 'test':\n",
        "      self.images = images[50000:60000]\n",
        "      self.labels = labels[50000:60000]\n",
        "      # Your code here. If testing, use examples 50,000-60,000 of the \n",
        "      # entire dataset \n",
        "      \n",
        "    else:\n",
        "      raise ValueError('Invalid mode!')\n",
        "\n",
        "  def __getitem__(self, idx):\n",
        "    # Do the following:\n",
        "    # 1. Get the image and label from the dataset corresponding to index idx.]\n",
        "    x, y = self.images[idx], self.labels[idx, ...]\n",
        "    # 2. Convert the label to a LongTensor (needs to be of this type because it \n",
        "    # is an integer value and PyTorch will throw an error otherwise)\n",
        "    label = torch.LongTensor(y)\n",
        "    # 3. Transform the image using self.transform. This will convert the image \n",
        "    # into a tensor, scale it to [0,1], and apply data augmentations.\n",
        "    image = self.transform(x)\n",
        "    # # 4. Return the image and label.   \n",
        "    return image, label\n",
        "\n",
        "  def __len__(self):\n",
        "    return len(self.labels) # Replace with your code."
      ]
    },
    {
      "cell_type": "markdown",
      "metadata": {
        "id": "vb_AS9u6UKcv"
      },
      "source": [
        "2b: Write transforms"
      ]
    },
    {
      "cell_type": "code",
      "execution_count": null,
      "metadata": {
        "colab": {
          "base_uri": "https://localhost:8080/"
        },
        "id": "sd6nAkFRzL9E",
        "outputId": "6aa22510-8d6f-4704-b457-b301d469f49b"
      },
      "outputs": [
        {
          "output_type": "stream",
          "name": "stdout",
          "text": [
            "Read in CIFAR10 dataset with 60000 examples, and labels:\n",
            " ['airplane' 'automobile' 'bird' 'cat' 'deer' 'dog' 'frog' 'horse' 'ship'\n",
            " 'truck']\n"
          ]
        }
      ],
      "source": [
        "cifar = np.load('/content/drive/MyDrive/Comp 546: Computer Vision/CIFAR.npz')\n",
        "X,y,label_names = cifar['X'], cifar['y']*1.0, cifar['label_names']\n",
        "print(\"Read in CIFAR10 dataset with %d examples, and labels:\\n %s\" % (X.shape[0], label_names))\n",
        "\n",
        "batch_size = 64\n",
        "# RandomHorizontalFlip\n",
        "transform = Compose([ToTensor(), \n",
        "                     RandomHorizontalFlip(-5), # RandomHorizontalFlip\n",
        "                     RandomAffine(0.8),        # RandomAffine\n",
        "                     ColorJitter(brightness=0.8, saturation=0.8)]) # ColorJitter()\n",
        "train_dataset = CIFARDataset(X, y, \"train\", transform)\n",
        "train_dataloader = data.DataLoader(train_dataset, batch_size=batch_size, shuffle=True, num_workers=1)\n",
        "\n",
        "\"\"\"No Augmentation\"\"\"\n",
        "transform = Compose([ToTensor()]) # No augmentations, but should still include ToTensor().\n",
        "val_dataset = CIFARDataset(X, y, \"val\", transform)\n",
        "val_dataloader = data.DataLoader(val_dataset, batch_size=batch_size, shuffle=True, num_workers=1)\n",
        "\n",
        "transform = Compose([ToTensor()])# No augmentations, but should still include ToTensor().\n",
        "test_dataset = CIFARDataset(X, y, \"test\", transform)\n",
        "test_dataloader = data.DataLoader(test_dataset, batch_size=batch_size, shuffle=False, num_workers=1)"
      ]
    },
    {
      "cell_type": "markdown",
      "metadata": {
        "id": "7UtuM7SfURSt"
      },
      "source": [
        "2c: Implement the model"
      ]
    },
    {
      "cell_type": "code",
      "execution_count": null,
      "metadata": {
        "id": "0b11er66za2r"
      },
      "outputs": [],
      "source": [
        "class Model(nn.Module):\n",
        "  def __init__(self):\n",
        "    super().__init__()\n",
        "    self.conv1 = nn.Sequential(\n",
        "        nn.Conv2d(3, 50, kernel_size=(3,3), padding=1), \n",
        "        nn.ReLU(),\n",
        "        )\n",
        "    self.conv2 = nn.Sequential(\n",
        "        nn.Conv2d(50, 100, kernel_size=(3,3), padding=1), \n",
        "        nn.ReLU(),\n",
        "        )\n",
        "    self.conv3 = nn.Sequential(\n",
        "        nn.Conv2d(100, 100, kernel_size=(3,3), padding=1), \n",
        "        nn.ReLU(),\n",
        "        )\n",
        "    self.conv4 = nn.Sequential(\n",
        "        nn.Conv2d(100, 100, kernel_size=(3,3), padding=1), \n",
        "        nn.ReLU(),\n",
        "        )\n",
        "    self.linear_relu = nn.Sequential(\n",
        "        nn.Linear(1600,100),\n",
        "        nn.ReLU(),\n",
        "    )\n",
        "    self.linear = nn.Sequential(\n",
        "        nn.Linear(100, 10)\n",
        "    )\n",
        "    self.maxpool1 = nn.MaxPool2d((2,2))\n",
        "    self.maxpool2 = nn.MaxPool2d((2,2))\n",
        "    self.maxpool3 = nn.MaxPool2d((2,2))\n",
        "    \n",
        "    #Replace with your code\n",
        "    \n",
        "  def forward(self, x):\n",
        "    out1 = self.maxpool1(self.conv1(x))\n",
        "    out2 = self.maxpool2(self.conv2(out1))\n",
        "    out3 = self.maxpool3(self.conv3(out2))\n",
        "    out4 = self.conv4(out3) # error\n",
        "    out_reshape = out4.reshape(out4.shape[0], out4.shape[1]*out4.shape[2]*out4.shape[3])\n",
        "    out5 = self.linear_relu(out_reshape)\n",
        "    out6 = self.linear(out5)\n",
        "    return out6 #Replace with your code"
      ]
    },
    {
      "cell_type": "markdown",
      "metadata": {
        "id": "pXPzzAtZUU8L"
      },
      "source": [
        "2d/2e: Implement the training loop, and train your model."
      ]
    },
    {
      "cell_type": "code",
      "execution_count": null,
      "metadata": {
        "id": "LfMSUHUCxD-_"
      },
      "outputs": [],
      "source": [
        "def save_model(model, loss, epochs, optimizer):\n",
        "  \"\"\"Save model checkpoint\"\"\"\n",
        "  # Additional information\n",
        "  EPOCH = epochs\n",
        "  PATH = \"/content/drive/MyDrive/Comp 546: Computer Vision/best_conv_model.pt\"\n",
        "  LOSS = loss\n",
        "  torch.save({\n",
        "              'epoch': EPOCH,\n",
        "              'model_state_dict': model.state_dict(),\n",
        "              'optimizer_state_dict': optimizer.state_dict(),\n",
        "              'loss': LOSS,\n",
        "              }, PATH)\n",
        "def train_loop(dataloader, model, loss_fn, optimizer, old_loss, epochs, device):\n",
        "    size = len(dataloader.dataset)\n",
        "    for batch, (X, y) in enumerate(dataloader):\n",
        "      X,y = X.to(device), y.to(device)\n",
        "      # Compute prediction and loss\n",
        "      pred = model(X)\n",
        "      loss = loss_fn(pred, y)\n",
        "      # Backpropagation\n",
        "      optimizer.zero_grad()\n",
        "      loss.backward()\n",
        "      optimizer.step()\n",
        "    \n",
        "      if batch % 100 == 0:\n",
        "        loss, current = loss.item(), (batch + 1) * len(X)\n",
        "        if loss < old_loss:\n",
        "          save_model(model, loss, epochs, optimizer)\n",
        "          old_loss = loss\n",
        "        print(f\"loss: {loss:>7f}  [{current:>5d}/{size:>5d}]\")\n",
        "def get_loss(dataloader, model, loss_fn):\n",
        "  batch, (X,y) = next(enumerate(dataloader))\n",
        "  X,y = X.to(device), y.to(device)\n",
        "  loss = loss_fn(model(X), y)\n",
        "  return float(loss.cpu())\n",
        "def test_loop(dataloader, model, loss_fn, device):\n",
        "    size = len(dataloader.dataset)\n",
        "    num_batches = len(dataloader)\n",
        "    test_loss, correct = 0, 0\n",
        "\n",
        "    with torch.no_grad():\n",
        "        for X, y in dataloader:\n",
        "          X,y = X.to(device), y.to(device)\n",
        "          pred = model(X)\n",
        "          test_loss += loss_fn(pred, y).item()\n",
        "          correct += (pred.argmax(1) == y).type(torch.float).sum().item()\n",
        "\n",
        "    test_loss /= num_batches\n",
        "    correct /= size\n",
        "    print(f\"Test Error: \\n Accuracy: {(100*correct):>0.1f}%, Avg loss: {test_loss:>8f} \\n\")"
      ]
    },
    {
      "cell_type": "code",
      "execution_count": null,
      "metadata": {
        "colab": {
          "base_uri": "https://localhost:8080/"
        },
        "id": "strJmqVJGkBw",
        "outputId": "5a26f753-4307-46b4-a326-1fbbff1ac0d2"
      },
      "outputs": [
        {
          "output_type": "stream",
          "name": "stdout",
          "text": [
            "Using cuda device\n"
          ]
        },
        {
          "output_type": "stream",
          "name": "stderr",
          "text": [
            "\r  0%|          | 0/35 [00:00<?, ?it/s]"
          ]
        },
        {
          "output_type": "stream",
          "name": "stdout",
          "text": [
            "Epoch 1\n",
            "-------------------------------\n",
            "loss: 2.310559  [   64/40000]\n",
            "loss: 2.211158  [ 6464/40000]\n",
            "loss: 1.999919  [12864/40000]\n",
            "loss: 1.937987  [19264/40000]\n",
            "loss: 1.775382  [25664/40000]\n",
            "loss: 1.777660  [32064/40000]\n",
            "loss: 1.714833  [38464/40000]\n",
            "Test Error: \n",
            " Accuracy: 37.1%, Avg loss: 1.737099 \n",
            "\n"
          ]
        },
        {
          "output_type": "stream",
          "name": "stderr",
          "text": [
            "\r  3%|▎         | 1/35 [00:38<21:36, 38.13s/it]"
          ]
        },
        {
          "output_type": "stream",
          "name": "stdout",
          "text": [
            "Epoch 2\n",
            "-------------------------------\n",
            "loss: 1.795341  [   64/40000]\n",
            "loss: 1.798133  [ 6464/40000]\n",
            "loss: 1.852061  [12864/40000]\n",
            "loss: 1.960701  [19264/40000]\n",
            "loss: 1.777744  [25664/40000]\n",
            "loss: 1.759110  [32064/40000]\n",
            "loss: 1.550747  [38464/40000]\n",
            "Test Error: \n",
            " Accuracy: 42.6%, Avg loss: 1.580845 \n",
            "\n"
          ]
        },
        {
          "output_type": "stream",
          "name": "stderr",
          "text": [
            "\r  6%|▌         | 2/35 [01:17<21:16, 38.68s/it]"
          ]
        },
        {
          "output_type": "stream",
          "name": "stdout",
          "text": [
            "Epoch 3\n",
            "-------------------------------\n",
            "loss: 1.574423  [   64/40000]\n",
            "loss: 1.602225  [ 6464/40000]\n",
            "loss: 1.796669  [12864/40000]\n",
            "loss: 1.872867  [19264/40000]\n",
            "loss: 1.656806  [25664/40000]\n",
            "loss: 1.659509  [32064/40000]\n",
            "loss: 1.507502  [38464/40000]\n",
            "Test Error: \n",
            " Accuracy: 44.5%, Avg loss: 1.510133 \n",
            "\n"
          ]
        },
        {
          "output_type": "stream",
          "name": "stderr",
          "text": [
            "\r  9%|▊         | 3/35 [01:56<20:42, 38.82s/it]"
          ]
        },
        {
          "output_type": "stream",
          "name": "stdout",
          "text": [
            "Epoch 4\n",
            "-------------------------------\n",
            "loss: 1.403736  [   64/40000]\n",
            "loss: 1.590931  [ 6464/40000]\n",
            "loss: 1.358823  [12864/40000]\n",
            "loss: 1.475272  [19264/40000]\n",
            "loss: 1.567592  [25664/40000]\n",
            "loss: 1.401840  [32064/40000]\n",
            "loss: 1.539596  [38464/40000]\n",
            "Test Error: \n",
            " Accuracy: 46.5%, Avg loss: 1.479986 \n",
            "\n"
          ]
        },
        {
          "output_type": "stream",
          "name": "stderr",
          "text": [
            "\r 11%|█▏        | 4/35 [02:35<20:03, 38.84s/it]"
          ]
        },
        {
          "output_type": "stream",
          "name": "stdout",
          "text": [
            "Epoch 5\n",
            "-------------------------------\n",
            "loss: 1.460836  [   64/40000]\n",
            "loss: 1.454331  [ 6464/40000]\n",
            "loss: 1.501349  [12864/40000]\n",
            "loss: 1.609301  [19264/40000]\n",
            "loss: 1.425179  [25664/40000]\n",
            "loss: 1.612624  [32064/40000]\n",
            "loss: 1.782388  [38464/40000]\n",
            "Test Error: \n",
            " Accuracy: 49.4%, Avg loss: 1.389259 \n",
            "\n"
          ]
        },
        {
          "output_type": "stream",
          "name": "stderr",
          "text": [
            "\r 14%|█▍        | 5/35 [03:13<19:23, 38.79s/it]"
          ]
        },
        {
          "output_type": "stream",
          "name": "stdout",
          "text": [
            "Epoch 6\n",
            "-------------------------------\n",
            "loss: 1.381146  [   64/40000]\n",
            "loss: 1.423729  [ 6464/40000]\n",
            "loss: 1.448473  [12864/40000]\n",
            "loss: 1.230870  [19264/40000]\n",
            "loss: 1.372405  [25664/40000]\n",
            "loss: 1.426040  [32064/40000]\n",
            "loss: 1.433333  [38464/40000]\n",
            "Test Error: \n",
            " Accuracy: 51.2%, Avg loss: 1.348613 \n",
            "\n"
          ]
        },
        {
          "output_type": "stream",
          "name": "stderr",
          "text": [
            "\r 17%|█▋        | 6/35 [03:50<18:24, 38.09s/it]"
          ]
        },
        {
          "output_type": "stream",
          "name": "stdout",
          "text": [
            "Epoch 7\n",
            "-------------------------------\n",
            "loss: 1.515237  [   64/40000]\n",
            "loss: 1.238201  [ 6464/40000]\n",
            "loss: 1.223456  [12864/40000]\n",
            "loss: 1.448035  [19264/40000]\n",
            "loss: 1.386130  [25664/40000]\n",
            "loss: 1.451475  [32064/40000]\n",
            "loss: 1.393560  [38464/40000]\n",
            "Test Error: \n",
            " Accuracy: 52.1%, Avg loss: 1.318475 \n",
            "\n"
          ]
        },
        {
          "output_type": "stream",
          "name": "stderr",
          "text": [
            "\r 20%|██        | 7/35 [04:28<17:47, 38.12s/it]"
          ]
        },
        {
          "output_type": "stream",
          "name": "stdout",
          "text": [
            "Epoch 8\n",
            "-------------------------------\n",
            "loss: 1.451147  [   64/40000]\n",
            "loss: 1.475711  [ 6464/40000]\n",
            "loss: 1.388307  [12864/40000]\n",
            "loss: 1.309713  [19264/40000]\n",
            "loss: 1.513996  [25664/40000]\n",
            "loss: 1.322297  [32064/40000]\n",
            "loss: 1.457168  [38464/40000]\n",
            "Test Error: \n",
            " Accuracy: 55.1%, Avg loss: 1.263762 \n",
            "\n"
          ]
        },
        {
          "output_type": "stream",
          "name": "stderr",
          "text": [
            "\r 23%|██▎       | 8/35 [05:07<17:14, 38.32s/it]"
          ]
        },
        {
          "output_type": "stream",
          "name": "stdout",
          "text": [
            "Epoch 9\n",
            "-------------------------------\n",
            "loss: 1.655016  [   64/40000]\n",
            "loss: 1.393899  [ 6464/40000]\n",
            "loss: 1.191969  [12864/40000]\n",
            "loss: 1.224261  [19264/40000]\n",
            "loss: 1.179124  [25664/40000]\n",
            "loss: 1.321343  [32064/40000]\n",
            "loss: 1.389765  [38464/40000]\n",
            "Test Error: \n",
            " Accuracy: 55.5%, Avg loss: 1.252526 \n",
            "\n"
          ]
        },
        {
          "output_type": "stream",
          "name": "stderr",
          "text": [
            "\r 26%|██▌       | 9/35 [05:45<16:37, 38.37s/it]"
          ]
        },
        {
          "output_type": "stream",
          "name": "stdout",
          "text": [
            "Epoch 10\n",
            "-------------------------------\n",
            "loss: 1.331673  [   64/40000]\n",
            "loss: 1.040754  [ 6464/40000]\n",
            "loss: 1.276440  [12864/40000]\n",
            "loss: 1.216743  [19264/40000]\n",
            "loss: 1.151013  [25664/40000]\n",
            "loss: 1.390028  [32064/40000]\n",
            "loss: 1.481268  [38464/40000]\n",
            "Test Error: \n",
            " Accuracy: 56.2%, Avg loss: 1.229812 \n",
            "\n"
          ]
        },
        {
          "output_type": "stream",
          "name": "stderr",
          "text": [
            "\r 29%|██▊       | 10/35 [06:23<15:55, 38.23s/it]"
          ]
        },
        {
          "output_type": "stream",
          "name": "stdout",
          "text": [
            "Epoch 11\n",
            "-------------------------------\n",
            "loss: 1.231100  [   64/40000]\n",
            "loss: 1.178529  [ 6464/40000]\n",
            "loss: 1.060283  [12864/40000]\n",
            "loss: 1.301437  [19264/40000]\n",
            "loss: 1.364391  [25664/40000]\n",
            "loss: 1.294926  [32064/40000]\n",
            "loss: 1.247358  [38464/40000]\n",
            "Test Error: \n",
            " Accuracy: 58.1%, Avg loss: 1.168463 \n",
            "\n"
          ]
        },
        {
          "output_type": "stream",
          "name": "stderr",
          "text": [
            "\r 31%|███▏      | 11/35 [07:01<15:17, 38.22s/it]"
          ]
        },
        {
          "output_type": "stream",
          "name": "stdout",
          "text": [
            "Epoch 12\n",
            "-------------------------------\n",
            "loss: 1.005561  [   64/40000]\n",
            "loss: 1.078626  [ 6464/40000]\n",
            "loss: 1.294371  [12864/40000]\n",
            "loss: 1.142838  [19264/40000]\n",
            "loss: 1.117437  [25664/40000]\n",
            "loss: 1.285864  [32064/40000]\n",
            "loss: 1.334867  [38464/40000]\n",
            "Test Error: \n",
            " Accuracy: 58.5%, Avg loss: 1.159104 \n",
            "\n"
          ]
        },
        {
          "output_type": "stream",
          "name": "stderr",
          "text": [
            "\r 34%|███▍      | 12/35 [07:40<14:37, 38.16s/it]"
          ]
        },
        {
          "output_type": "stream",
          "name": "stdout",
          "text": [
            "Epoch 13\n",
            "-------------------------------\n",
            "loss: 1.038528  [   64/40000]\n",
            "loss: 1.176571  [ 6464/40000]\n",
            "loss: 0.905920  [12864/40000]\n",
            "loss: 1.067066  [19264/40000]\n",
            "loss: 1.161308  [25664/40000]\n",
            "loss: 1.153205  [32064/40000]\n",
            "loss: 1.286935  [38464/40000]\n",
            "Test Error: \n",
            " Accuracy: 60.6%, Avg loss: 1.105245 \n",
            "\n"
          ]
        },
        {
          "output_type": "stream",
          "name": "stderr",
          "text": [
            "\r 37%|███▋      | 13/35 [08:18<14:00, 38.21s/it]"
          ]
        },
        {
          "output_type": "stream",
          "name": "stdout",
          "text": [
            "Epoch 14\n",
            "-------------------------------\n",
            "loss: 1.176626  [   64/40000]\n",
            "loss: 0.983227  [ 6464/40000]\n",
            "loss: 1.278403  [12864/40000]\n",
            "loss: 1.227532  [19264/40000]\n",
            "loss: 1.159063  [25664/40000]\n",
            "loss: 1.272055  [32064/40000]\n",
            "loss: 1.109298  [38464/40000]\n",
            "Test Error: \n",
            " Accuracy: 60.7%, Avg loss: 1.115408 \n",
            "\n"
          ]
        },
        {
          "output_type": "stream",
          "name": "stderr",
          "text": [
            "\r 40%|████      | 14/35 [08:56<13:23, 38.27s/it]"
          ]
        },
        {
          "output_type": "stream",
          "name": "stdout",
          "text": [
            "Epoch 15\n",
            "-------------------------------\n",
            "loss: 1.225438  [   64/40000]\n",
            "loss: 1.264673  [ 6464/40000]\n",
            "loss: 0.867236  [12864/40000]\n",
            "loss: 1.198090  [19264/40000]\n",
            "loss: 1.206507  [25664/40000]\n",
            "loss: 1.166115  [32064/40000]\n",
            "loss: 1.136275  [38464/40000]\n",
            "Test Error: \n",
            " Accuracy: 61.4%, Avg loss: 1.083151 \n",
            "\n"
          ]
        },
        {
          "output_type": "stream",
          "name": "stderr",
          "text": [
            "\r 43%|████▎     | 15/35 [09:35<12:50, 38.55s/it]"
          ]
        },
        {
          "output_type": "stream",
          "name": "stdout",
          "text": [
            "Epoch 16\n",
            "-------------------------------\n",
            "loss: 1.194355  [   64/40000]\n",
            "loss: 1.075249  [ 6464/40000]\n",
            "loss: 1.196666  [12864/40000]\n",
            "loss: 1.074770  [19264/40000]\n",
            "loss: 1.324235  [25664/40000]\n",
            "loss: 0.956403  [32064/40000]\n",
            "loss: 1.323692  [38464/40000]\n",
            "Test Error: \n",
            " Accuracy: 59.9%, Avg loss: 1.146906 \n",
            "\n"
          ]
        },
        {
          "output_type": "stream",
          "name": "stderr",
          "text": [
            "\r 46%|████▌     | 16/35 [10:16<12:21, 39.00s/it]"
          ]
        },
        {
          "output_type": "stream",
          "name": "stdout",
          "text": [
            "Epoch 17\n",
            "-------------------------------\n",
            "loss: 1.308831  [   64/40000]\n",
            "loss: 0.756429  [ 6464/40000]\n",
            "loss: 1.073729  [12864/40000]\n",
            "loss: 1.124503  [19264/40000]\n",
            "loss: 0.974531  [25664/40000]\n",
            "loss: 0.954030  [32064/40000]\n",
            "loss: 0.975517  [38464/40000]\n",
            "Test Error: \n",
            " Accuracy: 63.4%, Avg loss: 1.030046 \n",
            "\n"
          ]
        },
        {
          "output_type": "stream",
          "name": "stderr",
          "text": [
            "\r 49%|████▊     | 17/35 [10:55<11:47, 39.29s/it]"
          ]
        },
        {
          "output_type": "stream",
          "name": "stdout",
          "text": [
            "Epoch 18\n",
            "-------------------------------\n",
            "loss: 1.134220  [   64/40000]\n",
            "loss: 1.431633  [ 6464/40000]\n",
            "loss: 1.146652  [12864/40000]\n",
            "loss: 1.217580  [19264/40000]\n",
            "loss: 1.004583  [25664/40000]\n",
            "loss: 0.923435  [32064/40000]\n",
            "loss: 1.215586  [38464/40000]\n",
            "Test Error: \n",
            " Accuracy: 62.7%, Avg loss: 1.043211 \n",
            "\n"
          ]
        },
        {
          "output_type": "stream",
          "name": "stderr",
          "text": [
            "\r 51%|█████▏    | 18/35 [11:34<11:04, 39.11s/it]"
          ]
        },
        {
          "output_type": "stream",
          "name": "stdout",
          "text": [
            "Epoch 19\n",
            "-------------------------------\n",
            "loss: 0.926939  [   64/40000]\n",
            "loss: 1.107207  [ 6464/40000]\n",
            "loss: 1.153369  [12864/40000]\n",
            "loss: 1.367417  [19264/40000]\n",
            "loss: 0.983731  [25664/40000]\n",
            "loss: 1.130128  [32064/40000]\n",
            "loss: 0.961987  [38464/40000]\n",
            "Test Error: \n",
            " Accuracy: 63.9%, Avg loss: 1.019671 \n",
            "\n"
          ]
        },
        {
          "output_type": "stream",
          "name": "stderr",
          "text": [
            "\r 54%|█████▍    | 19/35 [12:13<10:22, 38.91s/it]"
          ]
        },
        {
          "output_type": "stream",
          "name": "stdout",
          "text": [
            "Epoch 20\n",
            "-------------------------------\n",
            "loss: 0.897034  [   64/40000]\n",
            "loss: 1.151656  [ 6464/40000]\n",
            "loss: 1.031472  [12864/40000]\n",
            "loss: 0.776916  [19264/40000]\n",
            "loss: 0.880384  [25664/40000]\n",
            "loss: 1.042806  [32064/40000]\n",
            "loss: 0.923877  [38464/40000]\n",
            "Test Error: \n",
            " Accuracy: 65.2%, Avg loss: 0.982084 \n",
            "\n"
          ]
        },
        {
          "output_type": "stream",
          "name": "stderr",
          "text": [
            "\r 57%|█████▋    | 20/35 [12:52<09:43, 38.91s/it]"
          ]
        },
        {
          "output_type": "stream",
          "name": "stdout",
          "text": [
            "Epoch 21\n",
            "-------------------------------\n",
            "loss: 0.925279  [   64/40000]\n",
            "loss: 1.046754  [ 6464/40000]\n",
            "loss: 0.956324  [12864/40000]\n",
            "loss: 1.132171  [19264/40000]\n",
            "loss: 0.820261  [25664/40000]\n",
            "loss: 0.897375  [32064/40000]\n",
            "loss: 1.107933  [38464/40000]\n",
            "Test Error: \n",
            " Accuracy: 64.4%, Avg loss: 1.007031 \n",
            "\n"
          ]
        },
        {
          "output_type": "stream",
          "name": "stderr",
          "text": [
            "\r 60%|██████    | 21/35 [13:31<09:05, 38.93s/it]"
          ]
        },
        {
          "output_type": "stream",
          "name": "stdout",
          "text": [
            "Epoch 22\n",
            "-------------------------------\n",
            "loss: 1.068496  [   64/40000]\n",
            "loss: 0.910324  [ 6464/40000]\n",
            "loss: 0.984518  [12864/40000]\n",
            "loss: 0.925988  [19264/40000]\n",
            "loss: 0.902755  [25664/40000]\n",
            "loss: 0.944610  [32064/40000]\n",
            "loss: 0.886561  [38464/40000]\n",
            "Test Error: \n",
            " Accuracy: 66.1%, Avg loss: 0.961588 \n",
            "\n"
          ]
        },
        {
          "output_type": "stream",
          "name": "stderr",
          "text": [
            "\r 63%|██████▎   | 22/35 [14:10<08:27, 39.02s/it]"
          ]
        },
        {
          "output_type": "stream",
          "name": "stdout",
          "text": [
            "Epoch 23\n",
            "-------------------------------\n",
            "loss: 0.903597  [   64/40000]\n",
            "loss: 0.631510  [ 6464/40000]\n",
            "loss: 0.855774  [12864/40000]\n",
            "loss: 1.057953  [19264/40000]\n",
            "loss: 1.170961  [25664/40000]\n",
            "loss: 0.926439  [32064/40000]\n",
            "loss: 1.188358  [38464/40000]\n",
            "Test Error: \n",
            " Accuracy: 66.3%, Avg loss: 0.964887 \n",
            "\n"
          ]
        },
        {
          "output_type": "stream",
          "name": "stderr",
          "text": [
            "\r 66%|██████▌   | 23/35 [14:47<07:42, 38.53s/it]"
          ]
        },
        {
          "output_type": "stream",
          "name": "stdout",
          "text": [
            "Epoch 24\n",
            "-------------------------------\n",
            "loss: 0.951985  [   64/40000]\n",
            "loss: 0.747930  [ 6464/40000]\n",
            "loss: 0.984950  [12864/40000]\n",
            "loss: 0.905007  [19264/40000]\n",
            "loss: 1.102623  [25664/40000]\n",
            "loss: 0.943626  [32064/40000]\n",
            "loss: 0.969591  [38464/40000]\n",
            "Test Error: \n",
            " Accuracy: 67.7%, Avg loss: 0.931690 \n",
            "\n"
          ]
        },
        {
          "output_type": "stream",
          "name": "stderr",
          "text": [
            "\r 69%|██████▊   | 24/35 [15:25<07:02, 38.45s/it]"
          ]
        },
        {
          "output_type": "stream",
          "name": "stdout",
          "text": [
            "Epoch 25\n",
            "-------------------------------\n",
            "loss: 1.094249  [   64/40000]\n",
            "loss: 0.983379  [ 6464/40000]\n",
            "loss: 0.884930  [12864/40000]\n",
            "loss: 0.998478  [19264/40000]\n",
            "loss: 0.864110  [25664/40000]\n",
            "loss: 0.679782  [32064/40000]\n",
            "loss: 0.868951  [38464/40000]\n",
            "Test Error: \n",
            " Accuracy: 67.9%, Avg loss: 0.918584 \n",
            "\n"
          ]
        },
        {
          "output_type": "stream",
          "name": "stderr",
          "text": [
            "\r 71%|███████▏  | 25/35 [16:04<06:26, 38.62s/it]"
          ]
        },
        {
          "output_type": "stream",
          "name": "stdout",
          "text": [
            "Epoch 26\n",
            "-------------------------------\n",
            "loss: 0.964505  [   64/40000]\n",
            "loss: 0.893470  [ 6464/40000]\n",
            "loss: 0.940629  [12864/40000]\n",
            "loss: 1.097514  [19264/40000]\n",
            "loss: 0.670862  [25664/40000]\n",
            "loss: 0.676821  [32064/40000]\n",
            "loss: 0.833660  [38464/40000]\n",
            "Test Error: \n",
            " Accuracy: 68.2%, Avg loss: 0.909946 \n",
            "\n"
          ]
        },
        {
          "output_type": "stream",
          "name": "stderr",
          "text": [
            "\r 74%|███████▍  | 26/35 [16:43<05:46, 38.47s/it]"
          ]
        },
        {
          "output_type": "stream",
          "name": "stdout",
          "text": [
            "Epoch 27\n",
            "-------------------------------\n",
            "loss: 0.888680  [   64/40000]\n",
            "loss: 0.682955  [ 6464/40000]\n",
            "loss: 1.116056  [12864/40000]\n",
            "loss: 0.871003  [19264/40000]\n",
            "loss: 0.987651  [25664/40000]\n",
            "loss: 1.083247  [32064/40000]\n",
            "loss: 1.095437  [38464/40000]\n",
            "Test Error: \n",
            " Accuracy: 68.1%, Avg loss: 0.911768 \n",
            "\n"
          ]
        },
        {
          "output_type": "stream",
          "name": "stderr",
          "text": [
            "\r 77%|███████▋  | 27/35 [17:20<05:05, 38.21s/it]"
          ]
        },
        {
          "output_type": "stream",
          "name": "stdout",
          "text": [
            "Epoch 28\n",
            "-------------------------------\n",
            "loss: 0.885445  [   64/40000]\n",
            "loss: 0.861999  [ 6464/40000]\n",
            "loss: 0.727441  [12864/40000]\n",
            "loss: 0.904598  [19264/40000]\n",
            "loss: 0.834836  [25664/40000]\n",
            "loss: 0.978571  [32064/40000]\n",
            "loss: 0.964512  [38464/40000]\n",
            "Test Error: \n",
            " Accuracy: 69.5%, Avg loss: 0.892367 \n",
            "\n"
          ]
        },
        {
          "output_type": "stream",
          "name": "stderr",
          "text": [
            "\r 80%|████████  | 28/35 [17:58<04:27, 38.19s/it]"
          ]
        },
        {
          "output_type": "stream",
          "name": "stdout",
          "text": [
            "Epoch 29\n",
            "-------------------------------\n",
            "loss: 1.148264  [   64/40000]\n",
            "loss: 0.874036  [ 6464/40000]\n",
            "loss: 0.751805  [12864/40000]\n",
            "loss: 0.664394  [19264/40000]\n",
            "loss: 0.945214  [25664/40000]\n",
            "loss: 0.870648  [32064/40000]\n",
            "loss: 0.680281  [38464/40000]\n",
            "Test Error: \n",
            " Accuracy: 68.3%, Avg loss: 0.916956 \n",
            "\n"
          ]
        },
        {
          "output_type": "stream",
          "name": "stderr",
          "text": [
            "\r 83%|████████▎ | 29/35 [18:36<03:49, 38.20s/it]"
          ]
        },
        {
          "output_type": "stream",
          "name": "stdout",
          "text": [
            "Epoch 30\n",
            "-------------------------------\n",
            "loss: 1.018469  [   64/40000]\n",
            "loss: 0.598195  [ 6464/40000]\n",
            "loss: 0.809545  [12864/40000]\n",
            "loss: 0.967932  [19264/40000]\n",
            "loss: 0.874563  [25664/40000]\n",
            "loss: 0.809511  [32064/40000]\n",
            "loss: 0.947901  [38464/40000]\n",
            "Test Error: \n",
            " Accuracy: 70.0%, Avg loss: 0.866961 \n",
            "\n"
          ]
        },
        {
          "output_type": "stream",
          "name": "stderr",
          "text": [
            "\r 86%|████████▌ | 30/35 [19:15<03:11, 38.22s/it]"
          ]
        },
        {
          "output_type": "stream",
          "name": "stdout",
          "text": [
            "Epoch 31\n",
            "-------------------------------\n",
            "loss: 0.804454  [   64/40000]\n",
            "loss: 0.996149  [ 6464/40000]\n",
            "loss: 0.788831  [12864/40000]\n",
            "loss: 0.744761  [19264/40000]\n",
            "loss: 0.812140  [25664/40000]\n",
            "loss: 0.721795  [32064/40000]\n",
            "loss: 0.685957  [38464/40000]\n",
            "Test Error: \n",
            " Accuracy: 70.3%, Avg loss: 0.847417 \n",
            "\n"
          ]
        },
        {
          "output_type": "stream",
          "name": "stderr",
          "text": [
            "\r 89%|████████▊ | 31/35 [19:52<02:32, 38.00s/it]"
          ]
        },
        {
          "output_type": "stream",
          "name": "stdout",
          "text": [
            "Epoch 32\n",
            "-------------------------------\n",
            "loss: 0.732063  [   64/40000]\n",
            "loss: 0.762691  [ 6464/40000]\n",
            "loss: 0.682572  [12864/40000]\n",
            "loss: 0.640653  [19264/40000]\n",
            "loss: 0.930178  [25664/40000]\n",
            "loss: 0.606978  [32064/40000]\n",
            "loss: 0.790472  [38464/40000]\n",
            "Test Error: \n",
            " Accuracy: 70.3%, Avg loss: 0.859658 \n",
            "\n"
          ]
        },
        {
          "output_type": "stream",
          "name": "stderr",
          "text": [
            "\r 91%|█████████▏| 32/35 [20:30<01:54, 38.02s/it]"
          ]
        },
        {
          "output_type": "stream",
          "name": "stdout",
          "text": [
            "Epoch 33\n",
            "-------------------------------\n",
            "loss: 0.772020  [   64/40000]\n",
            "loss: 0.979933  [ 6464/40000]\n",
            "loss: 0.776141  [12864/40000]\n",
            "loss: 0.660359  [19264/40000]\n",
            "loss: 0.945482  [25664/40000]\n",
            "loss: 0.858433  [32064/40000]\n",
            "loss: 0.740915  [38464/40000]\n",
            "Test Error: \n",
            " Accuracy: 70.6%, Avg loss: 0.848243 \n",
            "\n"
          ]
        },
        {
          "output_type": "stream",
          "name": "stderr",
          "text": [
            "\r 94%|█████████▍| 33/35 [21:09<01:16, 38.17s/it]"
          ]
        },
        {
          "output_type": "stream",
          "name": "stdout",
          "text": [
            "Epoch 34\n",
            "-------------------------------\n",
            "loss: 0.795180  [   64/40000]\n",
            "loss: 0.710734  [ 6464/40000]\n",
            "loss: 0.638241  [12864/40000]\n",
            "loss: 0.678707  [19264/40000]\n",
            "loss: 0.747760  [25664/40000]\n",
            "loss: 0.754507  [32064/40000]\n",
            "loss: 0.809057  [38464/40000]\n",
            "Test Error: \n",
            " Accuracy: 71.1%, Avg loss: 0.842694 \n",
            "\n"
          ]
        },
        {
          "output_type": "stream",
          "name": "stderr",
          "text": [
            "\r 97%|█████████▋| 34/35 [21:47<00:38, 38.08s/it]"
          ]
        },
        {
          "output_type": "stream",
          "name": "stdout",
          "text": [
            "Epoch 35\n",
            "-------------------------------\n",
            "loss: 0.882530  [   64/40000]\n",
            "loss: 0.732297  [ 6464/40000]\n",
            "loss: 0.652557  [12864/40000]\n",
            "loss: 0.798177  [19264/40000]\n",
            "loss: 0.716690  [25664/40000]\n",
            "loss: 0.827238  [32064/40000]\n",
            "loss: 0.867802  [38464/40000]\n",
            "Test Error: \n",
            " Accuracy: 70.4%, Avg loss: 0.866906 \n",
            "\n"
          ]
        },
        {
          "output_type": "stream",
          "name": "stderr",
          "text": [
            "100%|██████████| 35/35 [22:25<00:00, 38.45s/it]"
          ]
        },
        {
          "output_type": "stream",
          "name": "stdout",
          "text": [
            "Done!\n"
          ]
        },
        {
          "output_type": "stream",
          "name": "stderr",
          "text": [
            "\n"
          ]
        }
      ],
      "source": [
        "# Your code here. Don't forget to call model.eval() first!\n",
        "\"\"\"hyperparameters\"\"\"\n",
        "device = \"cuda\" if torch.cuda.is_available() else \"cpu\"\n",
        "print(f\"Using {device} device\")\n",
        "learning_rate = 1e-4\n",
        "batch_size = 64\n",
        "# Initialize the loss function\n",
        "loss_fn = nn.CrossEntropyLoss()\n",
        "\n",
        "model = Model()\n",
        "model = model.to(device)\n",
        "optimizer =  torch.optim.Adam(model.parameters(), lr=learning_rate)\n",
        "epochs = 35\n",
        "\n",
        "model.eval()\n",
        "\"\"\"No Transformations\"\"\"\n",
        "# cifar = np.load('/content/drive/MyDrive/Comp 546: Computer Vision/CIFAR.npz')\n",
        "# X,y,label_names = cifar['X'], cifar['y']*1.0, cifar['label_names']\n",
        "# transform = Compose([ToTensor()]) \n",
        "# train_dataset = CIFARDataset(X, y, \"train\", transform)\n",
        "# train_dataloader = data.DataLoader(train_dataset, batch_size=batch_size, shuffle=True, num_workers=1)\n",
        "\n",
        "old_loss = 10\n",
        "loss_arr = []\n",
        "for t in tqdm(range(epochs)):\n",
        "    print(f\"Epoch {t+1}\\n-------------------------------\")\n",
        "    train_loop(train_dataloader, model, loss_fn, optimizer, old_loss, epochs, device)\n",
        "    test_loop(test_dataloader, model, loss_fn, device)\n",
        "    loss_arr.append(get_loss(train_dataloader, model, loss_fn))\n",
        "print(\"Done!\")"
      ]
    },
    {
      "cell_type": "code",
      "source": [
        "plt.plot(list(np.arange(1,36)),loss_arr,) \n",
        "#set title and x, y - axes labels\n",
        "plt.title('loss graph')\n",
        "plt.xlabel('epoch')\n",
        "plt.ylabel('loss')"
      ],
      "metadata": {
        "colab": {
          "base_uri": "https://localhost:8080/",
          "height": 312
        },
        "id": "y2Tllj8OvZob",
        "outputId": "b57b8c27-5f29-4d73-b00d-2774adb17bcd"
      },
      "execution_count": null,
      "outputs": [
        {
          "output_type": "execute_result",
          "data": {
            "text/plain": [
              "Text(0, 0.5, 'loss')"
            ]
          },
          "metadata": {},
          "execution_count": 63
        },
        {
          "output_type": "display_data",
          "data": {
            "text/plain": [
              "<Figure size 432x288 with 1 Axes>"
            ],
            "image/png": "[encoded data removed]"
          },
          "metadata": {
            "needs_background": "light"
          }
        }
      ]
    },
    {
      "cell_type": "code",
      "execution_count": null,
      "metadata": {
        "id": "4YaZNigDHdV8"
      },
      "outputs": [],
      "source": [
        "\"\"\"Save model checkpoint\"\"\"\n",
        "# # Additional information\n",
        "# EPOCH = epochs\n",
        "PATH = \"/content/drive/MyDrive/Comp 546: Computer Vision/best_conv_model.pt\"\n",
        "# LOSS = 1.245\n",
        "\n",
        "# torch.save({\n",
        "#             'epoch': EPOCH,\n",
        "#             'model_state_dict': model.state_dict(),\n",
        "#             'optimizer_state_dict': optimizer.state_dict(),\n",
        "#             'loss': LOSS,\n",
        "#             }, PATH)"
      ]
    },
    {
      "cell_type": "code",
      "execution_count": null,
      "metadata": {
        "colab": {
          "background_save": true
        },
        "id": "5-CplO24IDSn",
        "outputId": "8d4639c5-7e89-4955-c9f4-ae4039aa0077"
      },
      "outputs": [
        {
          "ename": "NameError",
          "evalue": "ignored",
          "output_type": "error",
          "traceback": [
            "\u001b[0;31m---------------------------------------------------------------------------\u001b[0m",
            "\u001b[0;31mNameError\u001b[0m                                 Traceback (most recent call last)",
            "\u001b[0;32m<ipython-input-23-7d2226ab5340>\u001b[0m in \u001b[0;36m<module>\u001b[0;34m\u001b[0m\n\u001b[1;32m      1\u001b[0m \u001b[0mloaded_model\u001b[0m \u001b[0;34m=\u001b[0m \u001b[0mModel\u001b[0m\u001b[0;34m(\u001b[0m\u001b[0;34m)\u001b[0m\u001b[0;34m\u001b[0m\u001b[0;34m\u001b[0m\u001b[0m\n\u001b[0;32m----> 2\u001b[0;31m \u001b[0moptimizer\u001b[0m \u001b[0;34m=\u001b[0m \u001b[0mtorch\u001b[0m\u001b[0;34m.\u001b[0m\u001b[0moptim\u001b[0m\u001b[0;34m.\u001b[0m\u001b[0mSGD\u001b[0m\u001b[0;34m(\u001b[0m\u001b[0mloaded_model\u001b[0m\u001b[0;34m.\u001b[0m\u001b[0mparameters\u001b[0m\u001b[0;34m(\u001b[0m\u001b[0;34m)\u001b[0m\u001b[0;34m,\u001b[0m \u001b[0mlr\u001b[0m\u001b[0;34m=\u001b[0m\u001b[0mlearning_rate\u001b[0m\u001b[0;34m)\u001b[0m\u001b[0;34m\u001b[0m\u001b[0;34m\u001b[0m\u001b[0m\n\u001b[0m\u001b[1;32m      3\u001b[0m \u001b[0;34m\u001b[0m\u001b[0m\n\u001b[1;32m      4\u001b[0m \u001b[0mcheckpoint\u001b[0m \u001b[0;34m=\u001b[0m \u001b[0mtorch\u001b[0m\u001b[0;34m.\u001b[0m\u001b[0mload\u001b[0m\u001b[0;34m(\u001b[0m\u001b[0mPATH\u001b[0m\u001b[0;34m)\u001b[0m\u001b[0;34m\u001b[0m\u001b[0;34m\u001b[0m\u001b[0m\n\u001b[1;32m      5\u001b[0m \u001b[0mloaded_model\u001b[0m\u001b[0;34m.\u001b[0m\u001b[0mload_state_dict\u001b[0m\u001b[0;34m(\u001b[0m\u001b[0mcheckpoint\u001b[0m\u001b[0;34m[\u001b[0m\u001b[0;34m'model_state_dict'\u001b[0m\u001b[0;34m]\u001b[0m\u001b[0;34m)\u001b[0m\u001b[0;34m\u001b[0m\u001b[0;34m\u001b[0m\u001b[0m\n",
            "\u001b[0;31mNameError\u001b[0m: name 'learning_rate' is not defined"
          ]
        }
      ],
      "source": [
        "loaded_model = Model()\n",
        "optimizer = torch.optim.SGD(loaded_model.parameters(), lr=learning_rate)\n",
        "\n",
        "checkpoint = torch.load(PATH)\n",
        "loaded_model.load_state_dict(checkpoint['model_state_dict'])\n",
        "optimizer.load_state_dict(checkpoint['optimizer_state_dict'])\n",
        "epoch = checkpoint['epoch']\n",
        "loss = checkpoint['loss']"
      ]
    },
    {
      "cell_type": "markdown",
      "metadata": {
        "id": "c09bhrEzUYZZ"
      },
      "source": [
        "2f: Choose the best model based on overall accuracy \n",
        "using the validation dataset."
      ]
    },
    {
      "cell_type": "code",
      "execution_count": null,
      "metadata": {
        "colab": {
          "background_save": true
        },
        "id": "k7wDd4aSzGpa"
      },
      "outputs": [],
      "source": [
        "def evaluation(labels_dict, total_dict, cf, labels, preds, y):\n",
        "  for val in range(len(preds)):\n",
        "    if(np.argmax(preds[val]) == y[val]):\n",
        "      labels_dict[labels[y[val]]] += 1\n",
        "    \n",
        "    \"\"\"Extend confusin matrix values\"\"\"\n",
        "    y_pred, y_true = labels[np.argmax(preds[val])], labels[y[val]]\n",
        "    cf[0].append(y_pred) # extend pred values\n",
        "    cf[1].append(y_true) # extend true values\n",
        "    \n",
        "    \"\"\"increase total number of predictions\"\"\"\n",
        "    total_dict[y_true] += 1\n",
        "\n",
        "  return labels_dict, total_dict"
      ]
    },
    {
      "cell_type": "code",
      "execution_count": null,
      "metadata": {
        "colab": {
          "background_save": true
        },
        "id": "EVN9YNgXtraN"
      },
      "outputs": [],
      "source": [
        "def test_loop(dataloader, model, loss_fn, label_names):\n",
        "    size = len(dataloader.dataset)\n",
        "    num_batches = len(dataloader)\n",
        "    test_loss, correct = 0, 0\n",
        "\n",
        "    \"\"\"Create dictionary to track accuracy per class\"\"\"\n",
        "    labels_dict, total_dict, cf = dict(), dict(), [[],[]]\n",
        "    for label in label_names:\n",
        "      labels_dict[label],total_dict[label] = 0, 0\n",
        "\n",
        "    with torch.no_grad():\n",
        "        for X, y in tqdm(dataloader):\n",
        "            pred = model(X)\n",
        "            test_loss += loss_fn(pred, y).item()\n",
        "            label_dict, total_dict = evaluation(labels_dict, total_dict, cf, label_names, pred, y)\n",
        "            correct += (pred.argmax(1) == y).type(torch.float).sum().item()\n",
        "        \"\"\"Get 5-10 examples of mistakes model made\"\"\"\n",
        "        count, images, indice, correct_label, incorrect = 0, [], [], [], []\n",
        "        for X, y in tqdm(dataloader):\n",
        "          if(count == 10):\n",
        "            break\n",
        "          pred = model(X)\n",
        "          for val in range(len(pred)):\n",
        "            if(np.argmax(pred[val]) != y[val] and y[val] == 3):\n",
        "              images.append(X)\n",
        "              indice.append(val)\n",
        "              correct_label.append(label_names[y[val]])\n",
        "              incorrect.append(label_names[np.argmax(pred[val])])\n",
        "              count += 1\n",
        "          \n",
        "\n",
        "    test_loss /= num_batches\n",
        "    correct /= size\n",
        "\n",
        "    \"\"\"create confusion matrix\"\"\"\n",
        "    confusion_matrix = metrics.confusion_matrix(cf[1], cf[0])\n",
        "    \n",
        "    for label in label_names:\n",
        "      labels_dict[label] = f'{labels_dict[label]/total_dict[label]*100:>0.1f}'\n",
        "    \n",
        "    print(f\"Test Error: \\n Accuracy: {(100*correct):>0.1f}%, Avg loss: {test_loss:>8f} \\n\")\n",
        "    return labels_dict, confusion_matrix, images, indice, correct_label, incorrect"
      ]
    },
    {
      "cell_type": "markdown",
      "metadata": {
        "id": "1aNs9SvXUbv9"
      },
      "source": [
        "2g: Implement code for computing overall accuracy, accuracy per class, and the confusion matrix on the test set."
      ]
    },
    {
      "cell_type": "code",
      "execution_count": null,
      "metadata": {
        "colab": {
          "background_save": true
        },
        "id": "B_rvr0QMIlDR"
      },
      "outputs": [],
      "source": [
        "class_acc, confusion_matrix, images, indice, correct_label, pred = test_loop(test_dataloader, loaded_model, loss_fn, label_names)"
      ]
    },
    {
      "cell_type": "code",
      "execution_count": null,
      "metadata": {
        "colab": {
          "background_save": true
        },
        "id": "JlcvHyj23FcL"
      },
      "outputs": [],
      "source": [
        "print(f\"Accuracy per class: {class_acc}\")"
      ]
    },
    {
      "cell_type": "code",
      "execution_count": null,
      "metadata": {
        "id": "XxGwlqs-K9ly"
      },
      "outputs": [],
      "source": [
        "df = pd.DataFrame(data=class_acc)\n",
        "df"
      ]
    },
    {
      "cell_type": "markdown",
      "metadata": {
        "id": "uQM9NR0OJoqc"
      },
      "source": [
        "### According to this accuracy metric listed above, 'cat' was the class which this model had the worst accuracy of 34%\n",
        "\n",
        "### According to the confusion matrix, the model confused a 'cat' image with a 'dog' the most."
      ]
    },
    {
      "cell_type": "code",
      "execution_count": null,
      "metadata": {
        "colab": {
          "base_uri": "https://localhost:8080/",
          "height": 363
        },
        "id": "dS-i5nfdD_va",
        "outputId": "ae9eb5ff-3de2-4fd7-fd87-e3795a2e0ae8"
      },
      "outputs": [
        {
          "data": {
            "text/html": [
              "\n",
              "  <div id=\"df-f80ebe1d-3d77-42a8-a2bf-87adf92ed7a5\">\n",
              "    <div class=\"colab-df-container\">\n",
              "      <div>\n",
              "<style scoped>\n",
              "    .dataframe tbody tr th:only-of-type {\n",
              "        vertical-align: middle;\n",
              "    }\n",
              "\n",
              "    .dataframe tbody tr th {\n",
              "        vertical-align: top;\n",
              "    }\n",
              "\n",
              "    .dataframe thead th {\n",
              "        text-align: right;\n",
              "    }\n",
              "</style>\n",
              "<table border=\"1\" class=\"dataframe\">\n",
              "  <thead>\n",
              "    <tr style=\"text-align: right;\">\n",
              "      <th></th>\n",
              "      <th>airplane</th>\n",
              "      <th>automobile</th>\n",
              "      <th>bird</th>\n",
              "      <th>cat</th>\n",
              "      <th>deer</th>\n",
              "      <th>dog</th>\n",
              "      <th>frog</th>\n",
              "      <th>horse</th>\n",
              "      <th>ship</th>\n",
              "      <th>truck</th>\n",
              "    </tr>\n",
              "  </thead>\n",
              "  <tbody>\n",
              "    <tr>\n",
              "      <th>airplane</th>\n",
              "      <td>777</td>\n",
              "      <td>8</td>\n",
              "      <td>46</td>\n",
              "      <td>10</td>\n",
              "      <td>19</td>\n",
              "      <td>6</td>\n",
              "      <td>7</td>\n",
              "      <td>16</td>\n",
              "      <td>65</td>\n",
              "      <td>46</td>\n",
              "    </tr>\n",
              "    <tr>\n",
              "      <th>automobile</th>\n",
              "      <td>24</td>\n",
              "      <td>779</td>\n",
              "      <td>6</td>\n",
              "      <td>4</td>\n",
              "      <td>3</td>\n",
              "      <td>3</td>\n",
              "      <td>10</td>\n",
              "      <td>10</td>\n",
              "      <td>23</td>\n",
              "      <td>138</td>\n",
              "    </tr>\n",
              "    <tr>\n",
              "      <th>bird</th>\n",
              "      <td>94</td>\n",
              "      <td>3</td>\n",
              "      <td>593</td>\n",
              "      <td>39</td>\n",
              "      <td>101</td>\n",
              "      <td>53</td>\n",
              "      <td>36</td>\n",
              "      <td>52</td>\n",
              "      <td>13</td>\n",
              "      <td>16</td>\n",
              "    </tr>\n",
              "    <tr>\n",
              "      <th>cat</th>\n",
              "      <td>31</td>\n",
              "      <td>11</td>\n",
              "      <td>98</td>\n",
              "      <td>428</td>\n",
              "      <td>80</td>\n",
              "      <td>173</td>\n",
              "      <td>67</td>\n",
              "      <td>79</td>\n",
              "      <td>14</td>\n",
              "      <td>19</td>\n",
              "    </tr>\n",
              "    <tr>\n",
              "      <th>deer</th>\n",
              "      <td>32</td>\n",
              "      <td>3</td>\n",
              "      <td>61</td>\n",
              "      <td>38</td>\n",
              "      <td>668</td>\n",
              "      <td>26</td>\n",
              "      <td>37</td>\n",
              "      <td>122</td>\n",
              "      <td>11</td>\n",
              "      <td>2</td>\n",
              "    </tr>\n",
              "    <tr>\n",
              "      <th>dog</th>\n",
              "      <td>16</td>\n",
              "      <td>1</td>\n",
              "      <td>89</td>\n",
              "      <td>144</td>\n",
              "      <td>41</td>\n",
              "      <td>580</td>\n",
              "      <td>14</td>\n",
              "      <td>93</td>\n",
              "      <td>11</td>\n",
              "      <td>11</td>\n",
              "    </tr>\n",
              "    <tr>\n",
              "      <th>frog</th>\n",
              "      <td>9</td>\n",
              "      <td>3</td>\n",
              "      <td>64</td>\n",
              "      <td>54</td>\n",
              "      <td>68</td>\n",
              "      <td>27</td>\n",
              "      <td>741</td>\n",
              "      <td>12</td>\n",
              "      <td>9</td>\n",
              "      <td>13</td>\n",
              "    </tr>\n",
              "    <tr>\n",
              "      <th>horse</th>\n",
              "      <td>13</td>\n",
              "      <td>1</td>\n",
              "      <td>27</td>\n",
              "      <td>24</td>\n",
              "      <td>43</td>\n",
              "      <td>43</td>\n",
              "      <td>2</td>\n",
              "      <td>828</td>\n",
              "      <td>1</td>\n",
              "      <td>18</td>\n",
              "    </tr>\n",
              "    <tr>\n",
              "      <th>ship</th>\n",
              "      <td>83</td>\n",
              "      <td>29</td>\n",
              "      <td>9</td>\n",
              "      <td>9</td>\n",
              "      <td>9</td>\n",
              "      <td>4</td>\n",
              "      <td>4</td>\n",
              "      <td>9</td>\n",
              "      <td>810</td>\n",
              "      <td>34</td>\n",
              "    </tr>\n",
              "    <tr>\n",
              "      <th>truck</th>\n",
              "      <td>32</td>\n",
              "      <td>58</td>\n",
              "      <td>7</td>\n",
              "      <td>11</td>\n",
              "      <td>2</td>\n",
              "      <td>6</td>\n",
              "      <td>7</td>\n",
              "      <td>22</td>\n",
              "      <td>34</td>\n",
              "      <td>821</td>\n",
              "    </tr>\n",
              "  </tbody>\n",
              "</table>\n",
              "</div>\n",
              "      <button class=\"colab-df-convert\" onclick=\"convertToInteractive('df-f80ebe1d-3d77-42a8-a2bf-87adf92ed7a5')\"\n",
              "              title=\"Convert this dataframe to an interactive table.\"\n",
              "              style=\"display:none;\">\n",
              "        \n",
              "  <svg xmlns=\"http://www.w3.org/2000/svg\" height=\"24px\"viewBox=\"0 0 24 24\"\n",
              "       width=\"24px\">\n",
              "    <path d=\"M0 0h24v24H0V0z\" fill=\"none\"/>\n",
              "    <path d=\"M18.56 5.44l.94 2.06.94-2.06 2.06-.94-2.06-.94-.94-2.06-.94 2.06-2.06.94zm-11 1L8.5 8.5l.94-2.06 2.06-.94-2.06-.94L8.5 2.5l-.94 2.06-2.06.94zm10 10l.94 2.06.94-2.06 2.06-.94-2.06-.94-.94-2.06-.94 2.06-2.06.94z\"/><path d=\"M17.41 7.96l-1.37-1.37c-.4-.4-.92-.59-1.43-.59-.52 0-1.04.2-1.43.59L10.3 9.45l-7.72 7.72c-.78.78-.78 2.05 0 2.83L4 21.41c.39.39.9.59 1.41.59.51 0 1.02-.2 1.41-.59l7.78-7.78 2.81-2.81c.8-.78.8-2.07 0-2.86zM5.41 20L4 18.59l7.72-7.72 1.47 1.35L5.41 20z\"/>\n",
              "  </svg>\n",
              "      </button>\n",
              "      \n",
              "  <style>\n",
              "    .colab-df-container {\n",
              "      display:flex;\n",
              "      flex-wrap:wrap;\n",
              "      gap: 12px;\n",
              "    }\n",
              "\n",
              "    .colab-df-convert {\n",
              "      background-color: #E8F0FE;\n",
              "      border: none;\n",
              "      border-radius: 50%;\n",
              "      cursor: pointer;\n",
              "      display: none;\n",
              "      fill: #1967D2;\n",
              "      height: 32px;\n",
              "      padding: 0 0 0 0;\n",
              "      width: 32px;\n",
              "    }\n",
              "\n",
              "    .colab-df-convert:hover {\n",
              "      background-color: #E2EBFA;\n",
              "      box-shadow: 0px 1px 2px rgba(60, 64, 67, 0.3), 0px 1px 3px 1px rgba(60, 64, 67, 0.15);\n",
              "      fill: #174EA6;\n",
              "    }\n",
              "\n",
              "    [theme=dark] .colab-df-convert {\n",
              "      background-color: #3B4455;\n",
              "      fill: #D2E3FC;\n",
              "    }\n",
              "\n",
              "    [theme=dark] .colab-df-convert:hover {\n",
              "      background-color: #434B5C;\n",
              "      box-shadow: 0px 1px 3px 1px rgba(0, 0, 0, 0.15);\n",
              "      filter: drop-shadow(0px 1px 2px rgba(0, 0, 0, 0.3));\n",
              "      fill: #FFFFFF;\n",
              "    }\n",
              "  </style>\n",
              "\n",
              "      <script>\n",
              "        const buttonEl =\n",
              "          document.querySelector('#df-f80ebe1d-3d77-42a8-a2bf-87adf92ed7a5 button.colab-df-convert');\n",
              "        buttonEl.style.display =\n",
              "          google.colab.kernel.accessAllowed ? 'block' : 'none';\n",
              "\n",
              "        async function convertToInteractive(key) {\n",
              "          const element = document.querySelector('#df-f80ebe1d-3d77-42a8-a2bf-87adf92ed7a5');\n",
              "          const dataTable =\n",
              "            await google.colab.kernel.invokeFunction('convertToInteractive',\n",
              "                                                     [key], {});\n",
              "          if (!dataTable) return;\n",
              "\n",
              "          const docLinkHtml = 'Like what you see? Visit the ' +\n",
              "            '<a target=\"_blank\" href=https://colab.research.google.com/notebooks/data_table.ipynb>data table notebook</a>'\n",
              "            + ' to learn more about interactive tables.';\n",
              "          element.innerHTML = '';\n",
              "          dataTable['output_type'] = 'display_data';\n",
              "          await google.colab.output.renderOutput(dataTable, element);\n",
              "          const docLink = document.createElement('div');\n",
              "          docLink.innerHTML = docLinkHtml;\n",
              "          element.appendChild(docLink);\n",
              "        }\n",
              "      </script>\n",
              "    </div>\n",
              "  </div>\n",
              "  "
            ],
            "text/plain": [
              "            airplane  automobile  bird  cat  deer  dog  frog  horse  ship  \\\n",
              "airplane         777           8    46   10    19    6     7     16    65   \n",
              "automobile        24         779     6    4     3    3    10     10    23   \n",
              "bird              94           3   593   39   101   53    36     52    13   \n",
              "cat               31          11    98  428    80  173    67     79    14   \n",
              "deer              32           3    61   38   668   26    37    122    11   \n",
              "dog               16           1    89  144    41  580    14     93    11   \n",
              "frog               9           3    64   54    68   27   741     12     9   \n",
              "horse             13           1    27   24    43   43     2    828     1   \n",
              "ship              83          29     9    9     9    4     4      9   810   \n",
              "truck             32          58     7   11     2    6     7     22    34   \n",
              "\n",
              "            truck  \n",
              "airplane       46  \n",
              "automobile    138  \n",
              "bird           16  \n",
              "cat            19  \n",
              "deer            2  \n",
              "dog            11  \n",
              "frog           13  \n",
              "horse          18  \n",
              "ship           34  \n",
              "truck         821  "
            ]
          },
          "execution_count": 29,
          "metadata": {},
          "output_type": "execute_result"
        }
      ],
      "source": [
        "import pandas as pd\n",
        "# creating a 2 dimensional dataframe out of the given data\n",
        "df = pd.DataFrame(data=confusion_matrix,columns=label_names)\n",
        "df.index = label_names\n",
        "df"
      ]
    },
    {
      "cell_type": "code",
      "execution_count": null,
      "metadata": {
        "colab": {
          "base_uri": "https://localhost:8080/",
          "height": 363
        },
        "id": "UjfWPu4fCrBv",
        "outputId": "24fed5df-273c-4bf4-b010-40b342793e12"
      },
      "outputs": [
        {
          "data": {
            "image/png": "[encoded data removed]",
            "text/plain": [
              "<Figure size 1440x1440 with 10 Axes>"
            ]
          },
          "metadata": {},
          "output_type": "display_data"
        }
      ],
      "source": [
        "\"\"\" \n",
        "g. iv: For the class on which your model has the worst accuracy (part ii), what is\n",
        "the other class it is most confused with? Show 5-10 test images that your\n",
        "model confused between these classes and comment on what factors\n",
        "may have caused the poor performance. \n",
        "\"\"\"\n",
        "# create figure\n",
        "fig = plt.figure(figsize=(20, 20))\n",
        "# setting values to rows and column variables\n",
        "rows,columns = 5,5\n",
        "# Adds a subplot at the 1st position\n",
        "for val in range(10):\n",
        "  # Add image to plot\n",
        "  fig.add_subplot(rows, columns, val+1); plt.imshow(images[val][indice[val]].T)\n",
        "  plt.axis('off'); plt.title(f\"pred: {pred[val]} | true: {correct_label[val]}\")"
      ]
    },
    {
      "cell_type": "markdown",
      "metadata": {
        "id": "IJ032fZ5GOXo"
      },
      "source": [
        "## Part h:  Change the last two Conv blocks in the architecture to Residual blocks and report overall accuracy of the best model. Recall the form of a residual block:\n",
        "\n",
        "<img src=\"/content/drive/MyDrive/Comp 546: Computer Vision/parrot.png\" alt=\"Residual Block\" width=\"200\"/>\n"
      ]
    },
    {
      "cell_type": "code",
      "execution_count": null,
      "metadata": {
        "id": "C5yEjt9Wah56"
      },
      "outputs": [],
      "source": [
        "def save_model(model, loss, epochs, optimizer):\n",
        "  \"\"\"Save model checkpoint\"\"\"\n",
        "  # Additional information\n",
        "  EPOCH = epochs\n",
        "  PATH = \"/content/drive/MyDrive/Comp 546: Computer Vision/best_model.pt\"\n",
        "  LOSS = loss\n",
        "  torch.save({\n",
        "              'epoch': EPOCH,\n",
        "              'model_state_dict': model.state_dict(),\n",
        "              'optimizer_state_dict': optimizer.state_dict(),\n",
        "              'loss': LOSS,\n",
        "              }, PATH)\n",
        "def train_loop(dataloader, model, loss_fn, optimizer, old_loss, epochs, device):\n",
        "    size = len(dataloader.dataset)\n",
        "    for batch, (X, y) in enumerate(dataloader):\n",
        "      X,y = X.to(device), y.to(device)\n",
        "      # Compute prediction and loss\n",
        "      pred = model(X)\n",
        "      loss = loss_fn(pred, y)\n",
        "      # Backpropagation\n",
        "      optimizer.zero_grad()\n",
        "      loss.backward()\n",
        "      optimizer.step()\n",
        "    \n",
        "      if batch % 100 == 0:\n",
        "        loss, current = loss.item(), (batch + 1) * len(X)\n",
        "        if loss < old_loss:\n",
        "          save_model(model, loss, epochs, optimizer)\n",
        "          old_loss = loss\n",
        "        print(f\"loss: {loss:>7f}  [{current:>5d}/{size:>5d}]\")\n",
        "\n",
        "def test_loop(dataloader, model, loss_fn, device):\n",
        "    size = len(dataloader.dataset)\n",
        "    num_batches = len(dataloader)\n",
        "    test_loss, correct = 0, 0\n",
        "\n",
        "    with torch.no_grad():\n",
        "        for X, y in dataloader:\n",
        "          X,y = X.to(device), y.to(device)\n",
        "          pred = model(X)\n",
        "          test_loss += loss_fn(pred, y).item()\n",
        "          correct += (pred.argmax(1) == y).type(torch.float).sum().item()\n",
        "\n",
        "    test_loss /= num_batches\n",
        "    correct /= size\n",
        "    print(f\"Test Error: \\n Accuracy: {(100*correct):>0.1f}%, Avg loss: {test_loss:>8f} \\n\")"
      ]
    },
    {
      "cell_type": "code",
      "execution_count": null,
      "metadata": {
        "id": "LRr8fmZTGTcW"
      },
      "outputs": [],
      "source": [
        "class Model(nn.Module):\n",
        "  def __init__(self):\n",
        "    super().__init__()\n",
        "    self.conv_layer1 = nn.Sequential(\n",
        "        nn.Conv2d(3, 50, kernel_size=(3,3), padding=1), \n",
        "        nn.ReLU(),\n",
        "        )\n",
        "    self.conv_layer2 = nn.Sequential(\n",
        "        nn.Conv2d(50, 100, kernel_size=(3,3), padding=1), \n",
        "        nn.ReLU(),\n",
        "        )\n",
        "    # conv_layer3 replaced with residual layer\n",
        "    self.residual_layer = nn.Sequential(\n",
        "        nn.Conv2d(100, 100, kernel_size=(3,3), padding=1), \n",
        "        nn.ReLU(),\n",
        "        nn.Conv2d(100, 100, kernel_size=(3,3), padding=1), \n",
        "        )\n",
        "    self.linear_relu = nn.Sequential(\n",
        "        nn.Linear(1600,100),\n",
        "        nn.ReLU(),\n",
        "    )\n",
        "    self.linear = nn.Sequential(\n",
        "        nn.Linear(100, 10)\n",
        "    )\n",
        "    self.relu = nn.ReLU()\n",
        "    self.maxpool = nn.MaxPool2d((2,2))\n",
        "\n",
        "  def forward(self, x):\n",
        "    out1 = self.maxpool(self.conv_layer1(x))\n",
        "    out2 = self.maxpool(self.conv_layer2(out1))\n",
        "    out3 = self.maxpool(self.relu(self.residual_layer(out2)+out2)) # residual block 1\n",
        "    out4 = self.relu(self.residual_layer(out3)+out3) # residual block 2\n",
        "    out_reshape = out4.reshape(out4.shape[0], out4.shape[1]*out4.shape[2]*out4.shape[3])  # Reshape for linear layers\n",
        "    out5 = self.linear_relu(out_reshape)\n",
        "    out6 = self.linear(out5)\n",
        "    return out6 "
      ]
    },
    {
      "cell_type": "code",
      "execution_count": null,
      "metadata": {
        "colab": {
          "base_uri": "https://localhost:8080/"
        },
        "id": "PMNt-919Lu-G",
        "outputId": "763d6445-fcda-4f38-95db-c7ed476f24ee"
      },
      "outputs": [
        {
          "name": "stdout",
          "output_type": "stream",
          "text": [
            "Using cuda device\n",
            "Epoch 1\n",
            "-------------------------------\n",
            "loss: 2.297759  [   64/40000]\n",
            "loss: 2.117565  [ 6464/40000]\n",
            "loss: 1.968871  [12864/40000]\n",
            "loss: 1.788198  [19264/40000]\n",
            "loss: 1.799364  [25664/40000]\n",
            "loss: 1.720471  [32064/40000]\n",
            "loss: 1.752448  [38464/40000]\n",
            "Test Error: \n",
            " Accuracy: 39.4%, Avg loss: 1.649234 \n",
            "\n",
            "Epoch 2\n",
            "-------------------------------\n",
            "loss: 1.493116  [   64/40000]\n",
            "loss: 1.704365  [ 6464/40000]\n",
            "loss: 1.562654  [12864/40000]\n",
            "loss: 1.727576  [19264/40000]\n",
            "loss: 1.324703  [25664/40000]\n",
            "loss: 1.796632  [32064/40000]\n",
            "loss: 1.597469  [38464/40000]\n",
            "Test Error: \n",
            " Accuracy: 44.9%, Avg loss: 1.500804 \n",
            "\n",
            "Epoch 3\n",
            "-------------------------------\n",
            "loss: 1.548721  [   64/40000]\n",
            "loss: 1.449976  [ 6464/40000]\n",
            "loss: 1.558533  [12864/40000]\n",
            "loss: 1.598846  [19264/40000]\n",
            "loss: 1.518012  [25664/40000]\n",
            "loss: 1.362699  [32064/40000]\n",
            "loss: 1.436214  [38464/40000]\n",
            "Test Error: \n",
            " Accuracy: 48.8%, Avg loss: 1.417930 \n",
            "\n",
            "Epoch 4\n",
            "-------------------------------\n",
            "loss: 1.278890  [   64/40000]\n",
            "loss: 1.644864  [ 6464/40000]\n",
            "loss: 1.484659  [12864/40000]\n",
            "loss: 1.248994  [19264/40000]\n",
            "loss: 1.415484  [25664/40000]\n",
            "loss: 1.162634  [32064/40000]\n",
            "loss: 1.417347  [38464/40000]\n",
            "Test Error: \n",
            " Accuracy: 51.4%, Avg loss: 1.328186 \n",
            "\n",
            "Epoch 5\n",
            "-------------------------------\n",
            "loss: 1.287446  [   64/40000]\n",
            "loss: 1.204010  [ 6464/40000]\n",
            "loss: 1.206928  [12864/40000]\n",
            "loss: 1.248354  [19264/40000]\n",
            "loss: 1.470454  [25664/40000]\n",
            "loss: 1.096890  [32064/40000]\n",
            "loss: 1.384484  [38464/40000]\n",
            "Test Error: \n",
            " Accuracy: 54.2%, Avg loss: 1.255892 \n",
            "\n",
            "Epoch 6\n",
            "-------------------------------\n",
            "loss: 1.256982  [   64/40000]\n",
            "loss: 1.417483  [ 6464/40000]\n",
            "loss: 0.933728  [12864/40000]\n",
            "loss: 1.420838  [19264/40000]\n",
            "loss: 1.328579  [25664/40000]\n",
            "loss: 1.177892  [32064/40000]\n",
            "loss: 1.136498  [38464/40000]\n",
            "Test Error: \n",
            " Accuracy: 55.6%, Avg loss: 1.228294 \n",
            "\n",
            "Epoch 7\n",
            "-------------------------------\n",
            "loss: 1.496866  [   64/40000]\n",
            "loss: 1.433112  [ 6464/40000]\n",
            "loss: 1.519345  [12864/40000]\n",
            "loss: 1.067116  [19264/40000]\n",
            "loss: 1.211176  [25664/40000]\n",
            "loss: 1.064172  [32064/40000]\n",
            "loss: 1.055928  [38464/40000]\n",
            "Test Error: \n",
            " Accuracy: 57.8%, Avg loss: 1.181084 \n",
            "\n",
            "Epoch 8\n",
            "-------------------------------\n",
            "loss: 1.314194  [   64/40000]\n",
            "loss: 1.073838  [ 6464/40000]\n",
            "loss: 1.082594  [12864/40000]\n",
            "loss: 1.360418  [19264/40000]\n",
            "loss: 1.181907  [25664/40000]\n",
            "loss: 1.027639  [32064/40000]\n",
            "loss: 1.052533  [38464/40000]\n",
            "Test Error: \n",
            " Accuracy: 59.8%, Avg loss: 1.138449 \n",
            "\n",
            "Epoch 9\n",
            "-------------------------------\n",
            "loss: 1.119323  [   64/40000]\n",
            "loss: 0.953674  [ 6464/40000]\n",
            "loss: 1.259701  [12864/40000]\n",
            "loss: 1.224297  [19264/40000]\n",
            "loss: 1.213096  [25664/40000]\n",
            "loss: 1.327643  [32064/40000]\n",
            "loss: 1.224286  [38464/40000]\n",
            "Test Error: \n",
            " Accuracy: 59.6%, Avg loss: 1.131003 \n",
            "\n",
            "Epoch 10\n",
            "-------------------------------\n",
            "loss: 1.048710  [   64/40000]\n",
            "loss: 1.149003  [ 6464/40000]\n",
            "loss: 1.225797  [12864/40000]\n",
            "loss: 1.195336  [19264/40000]\n",
            "loss: 0.841440  [25664/40000]\n",
            "loss: 0.957372  [32064/40000]\n",
            "loss: 0.974451  [38464/40000]\n",
            "Test Error: \n",
            " Accuracy: 62.7%, Avg loss: 1.055931 \n",
            "\n",
            "Epoch 11\n",
            "-------------------------------\n",
            "loss: 1.248605  [   64/40000]\n",
            "loss: 1.266153  [ 6464/40000]\n",
            "loss: 1.159113  [12864/40000]\n",
            "loss: 0.919862  [19264/40000]\n",
            "loss: 1.082096  [25664/40000]\n",
            "loss: 1.139710  [32064/40000]\n",
            "loss: 1.025410  [38464/40000]\n",
            "Test Error: \n",
            " Accuracy: 63.3%, Avg loss: 1.023782 \n",
            "\n",
            "Epoch 12\n",
            "-------------------------------\n",
            "loss: 0.987426  [   64/40000]\n",
            "loss: 0.861979  [ 6464/40000]\n",
            "loss: 1.011277  [12864/40000]\n",
            "loss: 1.095036  [19264/40000]\n",
            "loss: 1.082790  [25664/40000]\n",
            "loss: 0.810206  [32064/40000]\n",
            "loss: 0.983383  [38464/40000]\n",
            "Test Error: \n",
            " Accuracy: 64.9%, Avg loss: 0.996526 \n",
            "\n",
            "Epoch 13\n",
            "-------------------------------\n",
            "loss: 1.020370  [   64/40000]\n",
            "loss: 0.933209  [ 6464/40000]\n",
            "loss: 0.918674  [12864/40000]\n",
            "loss: 0.847875  [19264/40000]\n",
            "loss: 1.092261  [25664/40000]\n",
            "loss: 0.830429  [32064/40000]\n",
            "loss: 1.053721  [38464/40000]\n",
            "Test Error: \n",
            " Accuracy: 65.1%, Avg loss: 0.980413 \n",
            "\n",
            "Epoch 14\n",
            "-------------------------------\n",
            "loss: 0.953539  [   64/40000]\n",
            "loss: 0.995205  [ 6464/40000]\n",
            "loss: 0.990724  [12864/40000]\n",
            "loss: 0.979421  [19264/40000]\n",
            "loss: 1.088861  [25664/40000]\n",
            "loss: 0.840510  [32064/40000]\n",
            "loss: 0.864652  [38464/40000]\n",
            "Test Error: \n",
            " Accuracy: 66.2%, Avg loss: 0.956735 \n",
            "\n",
            "Epoch 15\n",
            "-------------------------------\n",
            "loss: 0.893062  [   64/40000]\n",
            "loss: 0.824486  [ 6464/40000]\n",
            "loss: 0.639965  [12864/40000]\n",
            "loss: 0.719544  [19264/40000]\n",
            "loss: 0.836639  [25664/40000]\n",
            "loss: 0.706215  [32064/40000]\n",
            "loss: 0.831116  [38464/40000]\n",
            "Test Error: \n",
            " Accuracy: 66.4%, Avg loss: 0.939161 \n",
            "\n",
            "Epoch 16\n",
            "-------------------------------\n",
            "loss: 0.781835  [   64/40000]\n",
            "loss: 0.888135  [ 6464/40000]\n",
            "loss: 0.824616  [12864/40000]\n",
            "loss: 0.798959  [19264/40000]\n",
            "loss: 0.813355  [25664/40000]\n",
            "loss: 1.023640  [32064/40000]\n",
            "loss: 0.941983  [38464/40000]\n",
            "Test Error: \n",
            " Accuracy: 67.2%, Avg loss: 0.924784 \n",
            "\n",
            "Epoch 17\n",
            "-------------------------------\n",
            "loss: 0.709946  [   64/40000]\n",
            "loss: 0.755262  [ 6464/40000]\n",
            "loss: 0.722450  [12864/40000]\n",
            "loss: 0.938945  [19264/40000]\n",
            "loss: 0.714801  [25664/40000]\n",
            "loss: 0.917321  [32064/40000]\n",
            "loss: 0.966131  [38464/40000]\n",
            "Test Error: \n",
            " Accuracy: 66.9%, Avg loss: 0.944827 \n",
            "\n",
            "Epoch 18\n",
            "-------------------------------\n",
            "loss: 1.072768  [   64/40000]\n",
            "loss: 0.880082  [ 6464/40000]\n",
            "loss: 1.036278  [12864/40000]\n",
            "loss: 0.577455  [19264/40000]\n",
            "loss: 0.678810  [25664/40000]\n",
            "loss: 0.769976  [32064/40000]\n",
            "loss: 0.898823  [38464/40000]\n",
            "Test Error: \n",
            " Accuracy: 69.0%, Avg loss: 0.890228 \n",
            "\n",
            "Epoch 19\n",
            "-------------------------------\n",
            "loss: 0.693949  [   64/40000]\n",
            "loss: 0.700711  [ 6464/40000]\n",
            "loss: 0.802179  [12864/40000]\n",
            "loss: 0.990471  [19264/40000]\n",
            "loss: 0.785366  [25664/40000]\n",
            "loss: 1.041891  [32064/40000]\n",
            "loss: 0.734134  [38464/40000]\n",
            "Test Error: \n",
            " Accuracy: 69.5%, Avg loss: 0.874824 \n",
            "\n",
            "Epoch 20\n",
            "-------------------------------\n",
            "loss: 0.761787  [   64/40000]\n",
            "loss: 0.955082  [ 6464/40000]\n",
            "loss: 0.983758  [12864/40000]\n",
            "loss: 0.889250  [19264/40000]\n",
            "loss: 0.558868  [25664/40000]\n",
            "loss: 0.832020  [32064/40000]\n",
            "loss: 0.750209  [38464/40000]\n",
            "Test Error: \n",
            " Accuracy: 69.0%, Avg loss: 0.876101 \n",
            "\n",
            "Epoch 21\n",
            "-------------------------------\n",
            "loss: 0.693887  [   64/40000]\n",
            "loss: 0.736363  [ 6464/40000]\n",
            "loss: 0.687979  [12864/40000]\n",
            "loss: 0.782230  [19264/40000]\n",
            "loss: 0.715053  [25664/40000]\n",
            "loss: 0.769433  [32064/40000]\n",
            "loss: 0.739160  [38464/40000]\n",
            "Test Error: \n",
            " Accuracy: 70.4%, Avg loss: 0.845375 \n",
            "\n",
            "Epoch 22\n",
            "-------------------------------\n",
            "loss: 0.953053  [   64/40000]\n",
            "loss: 0.812486  [ 6464/40000]\n",
            "loss: 0.664145  [12864/40000]\n",
            "loss: 0.635773  [19264/40000]\n",
            "loss: 0.666724  [25664/40000]\n",
            "loss: 0.721050  [32064/40000]\n",
            "loss: 0.731306  [38464/40000]\n",
            "Test Error: \n",
            " Accuracy: 71.2%, Avg loss: 0.816226 \n",
            "\n",
            "Epoch 23\n",
            "-------------------------------\n",
            "loss: 0.603919  [   64/40000]\n",
            "loss: 0.606265  [ 6464/40000]\n",
            "loss: 0.884412  [12864/40000]\n",
            "loss: 0.735061  [19264/40000]\n",
            "loss: 0.753635  [25664/40000]\n",
            "loss: 0.640255  [32064/40000]\n",
            "loss: 0.741110  [38464/40000]\n",
            "Test Error: \n",
            " Accuracy: 71.1%, Avg loss: 0.814026 \n",
            "\n",
            "Epoch 24\n",
            "-------------------------------\n",
            "loss: 0.670062  [   64/40000]\n",
            "loss: 0.710791  [ 6464/40000]\n",
            "loss: 0.787664  [12864/40000]\n",
            "loss: 0.868137  [19264/40000]\n",
            "loss: 0.865280  [25664/40000]\n",
            "loss: 0.500965  [32064/40000]\n",
            "loss: 0.612531  [38464/40000]\n",
            "Test Error: \n",
            " Accuracy: 71.6%, Avg loss: 0.812770 \n",
            "\n",
            "Epoch 25\n",
            "-------------------------------\n",
            "loss: 0.830070  [   64/40000]\n",
            "loss: 0.673004  [ 6464/40000]\n",
            "loss: 0.450457  [12864/40000]\n",
            "loss: 0.623567  [19264/40000]\n",
            "loss: 0.378367  [25664/40000]\n",
            "loss: 0.840907  [32064/40000]\n",
            "loss: 0.527603  [38464/40000]\n",
            "Test Error: \n",
            " Accuracy: 71.0%, Avg loss: 0.834253 \n",
            "\n",
            "Epoch 26\n",
            "-------------------------------\n",
            "loss: 0.529230  [   64/40000]\n",
            "loss: 0.661470  [ 6464/40000]\n",
            "loss: 0.657473  [12864/40000]\n",
            "loss: 0.660276  [19264/40000]\n",
            "loss: 0.542044  [25664/40000]\n",
            "loss: 0.518940  [32064/40000]\n",
            "loss: 0.860183  [38464/40000]\n",
            "Test Error: \n",
            " Accuracy: 72.4%, Avg loss: 0.803465 \n",
            "\n",
            "Epoch 27\n",
            "-------------------------------\n",
            "loss: 0.737732  [   64/40000]\n",
            "loss: 0.858084  [ 6464/40000]\n",
            "loss: 0.544331  [12864/40000]\n",
            "loss: 0.693794  [19264/40000]\n",
            "loss: 0.837170  [25664/40000]\n",
            "loss: 0.606419  [32064/40000]\n",
            "loss: 0.714409  [38464/40000]\n",
            "Test Error: \n",
            " Accuracy: 71.5%, Avg loss: 0.821841 \n",
            "\n",
            "Epoch 28\n",
            "-------------------------------\n",
            "loss: 0.563174  [   64/40000]\n",
            "loss: 0.595984  [ 6464/40000]\n",
            "loss: 0.656113  [12864/40000]\n",
            "loss: 0.460301  [19264/40000]\n",
            "loss: 0.632146  [25664/40000]\n",
            "loss: 0.759924  [32064/40000]\n",
            "loss: 0.676349  [38464/40000]\n",
            "Test Error: \n",
            " Accuracy: 71.9%, Avg loss: 0.811905 \n",
            "\n",
            "Epoch 29\n",
            "-------------------------------\n",
            "loss: 0.439458  [   64/40000]\n",
            "loss: 0.690559  [ 6464/40000]\n",
            "loss: 0.526317  [12864/40000]\n",
            "loss: 0.567396  [19264/40000]\n",
            "loss: 0.697634  [25664/40000]\n",
            "loss: 0.722885  [32064/40000]\n",
            "loss: 0.559948  [38464/40000]\n",
            "Test Error: \n",
            " Accuracy: 72.9%, Avg loss: 0.793614 \n",
            "\n",
            "Epoch 30\n",
            "-------------------------------\n",
            "loss: 0.632030  [   64/40000]\n",
            "loss: 0.568705  [ 6464/40000]\n",
            "loss: 0.954067  [12864/40000]\n",
            "loss: 0.781397  [19264/40000]\n",
            "loss: 0.652686  [25664/40000]\n",
            "loss: 0.598871  [32064/40000]\n",
            "loss: 0.588351  [38464/40000]\n",
            "Test Error: \n",
            " Accuracy: 73.3%, Avg loss: 0.768069 \n",
            "\n",
            "Epoch 31\n",
            "-------------------------------\n",
            "loss: 0.665515  [   64/40000]\n",
            "loss: 0.469209  [ 6464/40000]\n",
            "loss: 0.733740  [12864/40000]\n",
            "loss: 0.651768  [19264/40000]\n",
            "loss: 0.529971  [25664/40000]\n",
            "loss: 0.661799  [32064/40000]\n",
            "loss: 0.741447  [38464/40000]\n",
            "Test Error: \n",
            " Accuracy: 74.1%, Avg loss: 0.748643 \n",
            "\n",
            "Epoch 32\n",
            "-------------------------------\n",
            "loss: 0.477079  [   64/40000]\n",
            "loss: 0.420057  [ 6464/40000]\n",
            "loss: 0.478222  [12864/40000]\n",
            "loss: 0.452364  [19264/40000]\n",
            "loss: 0.437845  [25664/40000]\n",
            "loss: 0.411117  [32064/40000]\n",
            "loss: 0.660867  [38464/40000]\n",
            "Test Error: \n",
            " Accuracy: 74.1%, Avg loss: 0.756005 \n",
            "\n",
            "Epoch 33\n",
            "-------------------------------\n",
            "loss: 0.496920  [   64/40000]\n",
            "loss: 0.664671  [ 6464/40000]\n",
            "loss: 0.472903  [12864/40000]\n",
            "loss: 0.626412  [19264/40000]\n",
            "loss: 0.665343  [25664/40000]\n",
            "loss: 0.736450  [32064/40000]\n",
            "loss: 0.843010  [38464/40000]\n",
            "Test Error: \n",
            " Accuracy: 73.9%, Avg loss: 0.756822 \n",
            "\n",
            "Epoch 34\n",
            "-------------------------------\n",
            "loss: 0.570425  [   64/40000]\n",
            "loss: 0.469487  [ 6464/40000]\n",
            "loss: 0.592794  [12864/40000]\n",
            "loss: 0.532773  [19264/40000]\n",
            "loss: 0.520673  [25664/40000]\n",
            "loss: 0.414307  [32064/40000]\n",
            "loss: 0.607263  [38464/40000]\n",
            "Test Error: \n",
            " Accuracy: 74.3%, Avg loss: 0.748432 \n",
            "\n",
            "Epoch 35\n",
            "-------------------------------\n",
            "loss: 0.478888  [   64/40000]\n",
            "loss: 0.343119  [ 6464/40000]\n",
            "loss: 0.554365  [12864/40000]\n",
            "loss: 0.544487  [19264/40000]\n",
            "loss: 0.564049  [25664/40000]\n",
            "loss: 0.388321  [32064/40000]\n",
            "loss: 0.550849  [38464/40000]\n",
            "Test Error: \n",
            " Accuracy: 74.7%, Avg loss: 0.747396 \n",
            "\n",
            "Done!\n"
          ]
        }
      ],
      "source": [
        "# Your code here. Don't forget to call model.eval() first!\n",
        "\"\"\"hyperparameters\"\"\"\n",
        "device = \"cuda\" if torch.cuda.is_available() else \"cpu\"\n",
        "print(f\"Using {device} device\")\n",
        "learning_rate = 1e-4\n",
        "batch_size = 64\n",
        "# Initialize the loss function\n",
        "loss_fn = nn.CrossEntropyLoss()\n",
        "\n",
        "model2 = Model()\n",
        "model2 = model2.to(device)\n",
        "model2.eval()\n",
        "optimizer =  torch.optim.Adam(model2.parameters(), lr=learning_rate)\n",
        "epochs = 35\n",
        "\n",
        "\n",
        "\"\"\"No Transformations\"\"\"\n",
        "cifar = np.load('/content/drive/MyDrive/Comp 546: Computer Vision/CIFAR.npz')\n",
        "X,y,label_names = cifar['X'], cifar['y']*1.0, cifar['label_names']\n",
        "transform = Compose([ToTensor()]) \n",
        "train_dataset = CIFARDataset(X, y, \"train\", transform)\n",
        "train_dataloader = data.DataLoader(train_dataset, batch_size=batch_size, shuffle=True, num_workers=1)\n",
        "old_loss = 10\n",
        "for t in range(epochs):\n",
        "    print(f\"Epoch {t+1}\\n-------------------------------\")\n",
        "    train_loop(train_dataloader, model2, loss_fn, optimizer, old_loss, epochs, device)\n",
        "    test_loop(test_dataloader, model2, loss_fn, device)\n",
        "print(\"Done!\")"
      ]
    },
    {
      "cell_type": "code",
      "execution_count": null,
      "metadata": {
        "id": "sXWQuqzzME8b"
      },
      "outputs": [],
      "source": [
        "loaded_model = Model()\n",
        "optimizer = torch.optim.SGD(loaded_model.parameters(), lr=learning_rate)\n",
        "PATH = \"/content/drive/MyDrive/Comp 546: Computer Vision/best_model.pt\"\n",
        "checkpoint = torch.load(PATH)\n",
        "loaded_model.load_state_dict(checkpoint['model_state_dict'])\n",
        "optimizer.load_state_dict(checkpoint['optimizer_state_dict'])\n",
        "epoch = checkpoint['epoch']\n",
        "loss = checkpoint['loss']"
      ]
    },
    {
      "cell_type": "code",
      "execution_count": null,
      "metadata": {
        "colab": {
          "base_uri": "https://localhost:8080/"
        },
        "id": "A4D83cflLtg6",
        "outputId": "c555d6db-5d1c-446b-9b20-c346eec45b85"
      },
      "outputs": [
        {
          "name": "stdout",
          "output_type": "stream",
          "text": [
            "Test Error: \n",
            " Accuracy: 74.7%, Avg loss: 0.747396 \n",
            "\n"
          ]
        }
      ],
      "source": [
        "test_loop(test_dataloader, model2, loss_fn, device)"
      ]
    },
    {
      "cell_type": "code",
      "execution_count": null,
      "metadata": {
        "id": "AmFgI1Av1j4u"
      },
      "outputs": [],
      "source": []
    }
  ],
  "metadata": {
    "accelerator": "GPU",
    "colab": {
      "provenance": []
    },
    "gpuClass": "standard",
    "kernelspec": {
      "display_name": "Python 3",
      "name": "python3"
    },
    "language_info": {
      "name": "python"
    }
  },
  "nbformat": 4,
  "nbformat_minor": 0
}
